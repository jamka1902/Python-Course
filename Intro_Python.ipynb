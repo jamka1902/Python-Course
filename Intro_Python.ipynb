{
 "cells": [
  {
   "cell_type": "code",
   "execution_count": 8,
   "metadata": {
    "collapsed": true
   },
   "outputs": [],
   "source": [
    "a =5"
   ]
  },
  {
   "cell_type": "code",
   "execution_count": 2,
   "metadata": {},
   "outputs": [
    {
     "name": "stdout",
     "output_type": "stream",
     "text": [
      "5\n"
     ]
    }
   ],
   "source": [
    "print a"
   ]
  },
  {
   "cell_type": "code",
   "execution_count": 3,
   "metadata": {
    "collapsed": true
   },
   "outputs": [],
   "source": [
    "a = a + 1"
   ]
  },
  {
   "cell_type": "code",
   "execution_count": 4,
   "metadata": {},
   "outputs": [
    {
     "name": "stdout",
     "output_type": "stream",
     "text": [
      "6\n"
     ]
    }
   ],
   "source": [
    "print a"
   ]
  },
  {
   "cell_type": "code",
   "execution_count": 9,
   "metadata": {},
   "outputs": [
    {
     "name": "stdout",
     "output_type": "stream",
     "text": [
      "6\n"
     ]
    }
   ],
   "source": [
    "b=6\n",
    "print b"
   ]
  },
  {
   "cell_type": "code",
   "execution_count": 37,
   "metadata": {
    "collapsed": true
   },
   "outputs": [],
   "source": [
    "#string\n",
    "name = \"one\""
   ]
  },
  {
   "cell_type": "code",
   "execution_count": 41,
   "metadata": {},
   "outputs": [
    {
     "name": "stdout",
     "output_type": "stream",
     "text": [
      "oneoneoneoneone\n"
     ]
    }
   ],
   "source": [
    "print name"
   ]
  },
  {
   "cell_type": "code",
   "execution_count": 40,
   "metadata": {},
   "outputs": [],
   "source": [
    "name = name * (5)"
   ]
  },
  {
   "cell_type": "code",
   "execution_count": 42,
   "metadata": {},
   "outputs": [],
   "source": [
    "strangerthings= 'upsidedown'\n"
   ]
  },
  {
   "cell_type": "code",
   "execution_count": 50,
   "metadata": {},
   "outputs": [],
   "source": [
    "strangerthings= strangerthings * 5"
   ]
  },
  {
   "cell_type": "code",
   "execution_count": 51,
   "metadata": {},
   "outputs": [
    {
     "name": "stdout",
     "output_type": "stream",
     "text": [
      "upsidedownupsidedownupsidedownupsidedownupsidedownupsidedownupsidedownupsidedownupsidedownupsidedownupsidedownupsidedownupsidedownupsidedownupsidedownupsidedownupsidedownupsidedownupsidedownupsidedownupsidedownupsidedownupsidedownupsidedownupsidedownupsidedownupsidedownupsidedownupsidedownupsidedownupsidedownupsidedownupsidedownupsidedownupsidedownupsidedownupsidedownupsidedownupsidedownupsidedownupsidedownupsidedownupsidedownupsidedownupsidedownupsidedownupsidedownupsidedownupsidedownupsidedownupsidedownupsidedownupsidedownupsidedownupsidedownupsidedownupsidedownupsidedownupsidedownupsidedownupsidedownupsidedownupsidedownupsidedownupsidedownupsidedownupsidedownupsidedownupsidedownupsidedownupsidedownupsidedownupsidedownupsidedownupsidedownupsidedownupsidedownupsidedownupsidedownupsidedownupsidedownupsidedownupsidedownupsidedownupsidedownupsidedownupsidedownupsidedownupsidedownupsidedownupsidedownupsidedownupsidedownupsidedownupsidedownupsidedownupsidedownupsidedownupsidedownupsidedownupsidedownupsidedownupsidedownupsidedownupsidedownupsidedownupsidedownupsidedownupsidedownupsidedownupsidedownupsidedownupsidedownupsidedownupsidedownupsidedownupsidedownupsidedownupsidedownupsidedownupsidedownupsidedownupsidedownupsidedownupsidedown\n"
     ]
    }
   ],
   "source": [
    "print strangerthings"
   ]
  },
  {
   "cell_type": "code",
   "execution_count": 55,
   "metadata": {
    "collapsed": true
   },
   "outputs": [],
   "source": [
    "a=4\n",
    "b=6"
   ]
  },
  {
   "cell_type": "code",
   "execution_count": 58,
   "metadata": {
    "collapsed": true
   },
   "outputs": [],
   "source": [
    "c=a+b"
   ]
  },
  {
   "cell_type": "code",
   "execution_count": 61,
   "metadata": {},
   "outputs": [
    {
     "name": "stdout",
     "output_type": "stream",
     "text": [
      "c =  10  a =  4  b =  6\n"
     ]
    }
   ],
   "source": [
    "print \"c = \",c,\" a = \",a, \" b = \",b"
   ]
  },
  {
   "cell_type": "code",
   "execution_count": 67,
   "metadata": {},
   "outputs": [
    {
     "name": "stdout",
     "output_type": "stream",
     "text": [
      "0\n",
      "finish\n",
      "1\n",
      "finish\n",
      "2\n",
      "finish\n",
      "3\n",
      "finish\n",
      "4\n",
      "finish\n",
      "5\n",
      "finish\n",
      "6\n",
      "finish\n",
      "7\n",
      "finish\n",
      "8\n",
      "finish\n",
      "9\n",
      "finish\n"
     ]
    }
   ],
   "source": [
    "#for loop\n",
    "for i in range(10):\n",
    "    print i \n",
    "    print \"finish\""
   ]
  },
  {
   "cell_type": "code",
   "execution_count": 69,
   "metadata": {},
   "outputs": [
    {
     "name": "stdout",
     "output_type": "stream",
     "text": [
      "ashna\n"
     ]
    }
   ],
   "source": [
    "print\"ashna\" "
   ]
  },
  {
   "cell_type": "code",
   "execution_count": 85,
   "metadata": {},
   "outputs": [
    {
     "name": "stdout",
     "output_type": "stream",
     "text": [
      "ashnaashna\n",
      "ashnaashnaashnaashna\n",
      "ashnaashnaashnaashnaashnaashna\n",
      "ashnaashnaashnaashnaashnaashnaashnaashna\n"
     ]
    }
   ],
   "source": [
    "#mynameisashna\n",
    "for a in range(2,10,2):\n",
    "    print \"ashna\"* a"
   ]
  },
  {
   "cell_type": "code",
   "execution_count": 81,
   "metadata": {},
   "outputs": [
    {
     "data": {
      "text/plain": [
       "[0, 1, 2, 3, 4, 5, 6, 7, 8, 9]"
      ]
     },
     "execution_count": 81,
     "metadata": {},
     "output_type": "execute_result"
    }
   ],
   "source": [
    "range(10)"
   ]
  },
  {
   "cell_type": "code",
   "execution_count": 86,
   "metadata": {},
   "outputs": [
    {
     "data": {
      "text/plain": [
       "[2, 4, 6, 8]"
      ]
     },
     "execution_count": 86,
     "metadata": {},
     "output_type": "execute_result"
    }
   ],
   "source": [
    "range(2,10,2)"
   ]
  },
  {
   "cell_type": "code",
   "execution_count": null,
   "metadata": {
    "collapsed": true
   },
   "outputs": [],
   "source": []
  }
 ],
 "metadata": {
  "kernelspec": {
   "display_name": "Python 2",
   "language": "python",
   "name": "python2"
  },
  "language_info": {
   "codemirror_mode": {
    "name": "ipython",
    "version": 2
   },
   "file_extension": ".py",
   "mimetype": "text/x-python",
   "name": "python",
   "nbconvert_exporter": "python",
   "pygments_lexer": "ipython2",
   "version": "2.7.11"
  }
 },
 "nbformat": 4,
 "nbformat_minor": 1
}
