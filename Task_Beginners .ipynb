{
 "cells": [
  {
   "cell_type": "markdown",
   "metadata": {},
   "source": [
    "# Task 1 : \n",
    "## 1. Make a time array from 0 to 50 with intervals of 0.01\n",
    "## 2. Calculate three functions in this time interval : \n",
    "* $f = sin (\\pi t)$\n",
    "* $g = cos(\\frac{\\pi}{10}t)$\n",
    "* $am = f*g$\n",
    "\n",
    "## 3. Plot the all three functions in same plot (!!) together. \n",
    "    * Should look really messy\n",
    "    \n",
    "## 4. Plot the three in diferent subplot individually (recall from the last lessons). \n",
    "    * Hint : use object oriented subplot : ax = add_subplot(---)\n",
    "  a. Plot each subplot with different color. (Hint : `color` paramater in plot funciton)\n",
    "\n",
    "  b. Add title to each of the subplot. (Optional : Use Latex markup for pretty title)  \n",
    " \n",
    "  c. (Optional) Add axis label for each subplot. (X-axis = time, Y-axis = function name) (if plots are too close together verticall, you can change gap with `fig.subplots_adjust(hspace=.5)`)  \n",
    "  \n",
    "  "
   ]
  },
  {
   "cell_type": "markdown",
   "metadata": {},
   "source": [
    "-------------------------------------------------------------------------------------------------------------------"
   ]
  },
  {
   "cell_type": "markdown",
   "metadata": {},
   "source": [
    "# Task 2 : Define N = 10000\n",
    "## 1. Make to arrays `x_ran` and `y_ran` with N uniform random number from $0$ to $1$ each. \n",
    "    [Hint : use np.random.uniform(a,b,shape)]\n",
    "## 2. Plot scatter plot of (x_ran,y_ran). \n",
    "    Hint : Use plt.scatter(x,y) or ax.scatter()\n",
    "    (Optional) Play with marker type, color and size.\n",
    "## 3. Make an array `x` with linspace in numpy that contains 1000 numbers between 0 and 1.  [np.linspace(...)]\n",
    "## 4. Calculate following function : \n",
    "* $sinfunc = sin(\\pi x)$  \n",
    "\n",
    "## 5. Plot `sinfunc` along with above scatter plot. (use plt.plot(...) for `sinfunc`)\n",
    "* Play with `color` and `linewidth` for the plotting of  `sinfunc` to make it visible. \n",
    "\n",
    "# 6. Now the fun part : \n",
    "## Think of `x_ran` and `y_ran` as ` (x,y) `coordinates of random points you picked in the rectangle of `0-1`\n",
    "## Now count all the points in this set of random points `(x_ran,y_ran)` you picked that fall under the `sinfunc` curve. \n",
    "## Calculate the ratio :   \n",
    "$$ratio = \\frac{Number\\_of\\_points\\_under\\_curve}{N}$$   \n",
    "\n",
    "# What do you observe?"
   ]
  },
  {
   "cell_type": "code",
   "execution_count": null,
   "metadata": {
    "collapsed": true
   },
   "outputs": [],
   "source": []
  }
 ],
 "metadata": {
  "kernelspec": {
   "display_name": "Python 2",
   "language": "python",
   "name": "python2"
  },
  "language_info": {
   "codemirror_mode": {
    "name": "ipython",
    "version": 2
   },
   "file_extension": ".py",
   "mimetype": "text/x-python",
   "name": "python",
   "nbconvert_exporter": "python",
   "pygments_lexer": "ipython2",
   "version": "2.7.11"
  }
 },
 "nbformat": 4,
 "nbformat_minor": 1
}
